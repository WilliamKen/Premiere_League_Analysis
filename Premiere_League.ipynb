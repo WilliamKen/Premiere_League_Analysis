{
 "cells": [
  {
   "cell_type": "markdown",
   "id": "8ecb3300",
   "metadata": {},
   "source": [
    "# Introduction\n",
    "\n",
    "Welcome to my analysis of Premier League match data! In this project, I'll be diving into a dataset containing detailed information about Premier League matches, including match dates, home and away teams, and the number of goals scored by each team. The objective of this analysis is to explore the trends in home and away goals over the years and to develop a machine learning model to predict home goals for the 2024 season.\n",
    "\n",
    "## Objectives:\n",
    "\n",
    "- Explore the historical trends in home and away goals scored in the Premier League.\n",
    "  \n",
    "- Investigate whether there are any notable patterns or changes in goal-scoring behavior over time.\n",
    "  \n",
    "- Develop a predictive machine learning model to forecast the number of home goals for the upcoming 2024 season.\n",
    "\n",
    "## Methodology:\n",
    "\n",
    "- Data Preprocessing: I'll start by loading and cleaning the dataset, ensuring that the data is in a suitable format for analysis.\n",
    "  \n",
    "- Exploratory Data Analysis (EDA): I'll conduct exploratory data analysis to gain insights into the distribution of home and away goals across different seasons.\n",
    "  \n",
    "- Machine Learning Modeling: Using historical match data, I'll train a Random Forest Regressor model to predict the number of home goals for the 2024 season.\n",
    "  \n",
    "- Model Evaluation: I'll evaluate the performance of the machine learning model using metrics such as Mean Absolute Error (MAE) and Mean Squared Error (MSE).\n",
    "\n",
    "By the end of this analysis, I aim to provide valuable insights into goal-scoring trends in the Premier League and to develop a predictive model that can assist football enthusiasts and analysts in forecasting home goals for future seasons."
   ]
  },
  {
   "cell_type": "code",
   "execution_count": 33,
   "id": "8c84e512",
   "metadata": {},
   "outputs": [],
   "source": [
    "import pandas as pd\n",
    "import matplotlib.pyplot as plt"
   ]
  },
  {
   "cell_type": "code",
   "execution_count": 6,
   "id": "d85b31b2",
   "metadata": {},
   "outputs": [
    {
     "data": {
      "text/html": [
       "<div>\n",
       "<style scoped>\n",
       "    .dataframe tbody tr th:only-of-type {\n",
       "        vertical-align: middle;\n",
       "    }\n",
       "\n",
       "    .dataframe tbody tr th {\n",
       "        vertical-align: top;\n",
       "    }\n",
       "\n",
       "    .dataframe thead th {\n",
       "        text-align: right;\n",
       "    }\n",
       "</style>\n",
       "<table border=\"1\" class=\"dataframe\">\n",
       "  <thead>\n",
       "    <tr style=\"text-align: right;\">\n",
       "      <th></th>\n",
       "      <th>Wk</th>\n",
       "      <th>Date</th>\n",
       "      <th>Home</th>\n",
       "      <th>HomeGoals</th>\n",
       "      <th>AwayGoals</th>\n",
       "      <th>Away</th>\n",
       "      <th>FTR</th>\n",
       "    </tr>\n",
       "    <tr>\n",
       "      <th>Season_End_Year</th>\n",
       "      <th></th>\n",
       "      <th></th>\n",
       "      <th></th>\n",
       "      <th></th>\n",
       "      <th></th>\n",
       "      <th></th>\n",
       "      <th></th>\n",
       "    </tr>\n",
       "  </thead>\n",
       "  <tbody>\n",
       "    <tr>\n",
       "      <th>1993</th>\n",
       "      <td>1</td>\n",
       "      <td>1992-08-15</td>\n",
       "      <td>Coventry City</td>\n",
       "      <td>2</td>\n",
       "      <td>1</td>\n",
       "      <td>Middlesbrough</td>\n",
       "      <td>H</td>\n",
       "    </tr>\n",
       "    <tr>\n",
       "      <th>1993</th>\n",
       "      <td>1</td>\n",
       "      <td>1992-08-15</td>\n",
       "      <td>Leeds United</td>\n",
       "      <td>2</td>\n",
       "      <td>1</td>\n",
       "      <td>Wimbledon</td>\n",
       "      <td>H</td>\n",
       "    </tr>\n",
       "    <tr>\n",
       "      <th>1993</th>\n",
       "      <td>1</td>\n",
       "      <td>1992-08-15</td>\n",
       "      <td>Sheffield Utd</td>\n",
       "      <td>2</td>\n",
       "      <td>1</td>\n",
       "      <td>Manchester Utd</td>\n",
       "      <td>H</td>\n",
       "    </tr>\n",
       "    <tr>\n",
       "      <th>1993</th>\n",
       "      <td>1</td>\n",
       "      <td>1992-08-15</td>\n",
       "      <td>Crystal Palace</td>\n",
       "      <td>3</td>\n",
       "      <td>3</td>\n",
       "      <td>Blackburn</td>\n",
       "      <td>D</td>\n",
       "    </tr>\n",
       "    <tr>\n",
       "      <th>1993</th>\n",
       "      <td>1</td>\n",
       "      <td>1992-08-15</td>\n",
       "      <td>Arsenal</td>\n",
       "      <td>2</td>\n",
       "      <td>4</td>\n",
       "      <td>Norwich City</td>\n",
       "      <td>A</td>\n",
       "    </tr>\n",
       "  </tbody>\n",
       "</table>\n",
       "</div>"
      ],
      "text/plain": [
       "                 Wk        Date            Home  HomeGoals  AwayGoals  \\\n",
       "Season_End_Year                                                         \n",
       "1993              1  1992-08-15   Coventry City          2          1   \n",
       "1993              1  1992-08-15    Leeds United          2          1   \n",
       "1993              1  1992-08-15   Sheffield Utd          2          1   \n",
       "1993              1  1992-08-15  Crystal Palace          3          3   \n",
       "1993              1  1992-08-15         Arsenal          2          4   \n",
       "\n",
       "                           Away FTR  \n",
       "Season_End_Year                      \n",
       "1993              Middlesbrough   H  \n",
       "1993                  Wimbledon   H  \n",
       "1993             Manchester Utd   H  \n",
       "1993                  Blackburn   D  \n",
       "1993               Norwich City   A  "
      ]
     },
     "execution_count": 6,
     "metadata": {},
     "output_type": "execute_result"
    }
   ],
   "source": [
    "# Read the data\n",
    "\n",
    "matchData = pd.read_csv(\"premier-league-matches.csv\", index_col=0)\n",
    "matchData.head()"
   ]
  },
  {
   "cell_type": "code",
   "execution_count": 7,
   "id": "616d1889",
   "metadata": {},
   "outputs": [
    {
     "data": {
      "text/plain": [
       "dtype('<M8[ns]')"
      ]
     },
     "execution_count": 7,
     "metadata": {},
     "output_type": "execute_result"
    }
   ],
   "source": [
    "# Check if the date column is in a DateTime format and convert it if not\n",
    "\n",
    "matchData['Date'] = pd.to_datetime(matchData['Date'])\n",
    "matchData['Date'].dtype"
   ]
  },
  {
   "cell_type": "code",
   "execution_count": 8,
   "id": "3310e5a5",
   "metadata": {},
   "outputs": [
    {
     "data": {
      "text/plain": [
       "Wk           False\n",
       "Date         False\n",
       "Home         False\n",
       "HomeGoals    False\n",
       "AwayGoals    False\n",
       "Away         False\n",
       "FTR          False\n",
       "dtype: bool"
      ]
     },
     "execution_count": 8,
     "metadata": {},
     "output_type": "execute_result"
    }
   ],
   "source": [
    "# Check for null values in the dataset\n",
    "\n",
    "matchData.isnull().any()"
   ]
  },
  {
   "cell_type": "code",
   "execution_count": 9,
   "id": "d8e59ee7",
   "metadata": {},
   "outputs": [],
   "source": [
    "# Filter the data into number of away wins and home wins\n",
    "\n",
    "awayWins = matchData[matchData['FTR'] == 'A']\n",
    "\n",
    "homeWins = matchData[matchData['FTR'] == 'H']"
   ]
  },
  {
   "cell_type": "code",
   "execution_count": 10,
   "id": "79faa45d",
   "metadata": {},
   "outputs": [],
   "source": [
    "# Calculate the percentage of away wins\n",
    "\n",
    "numAwayWins = len(awayWins)\n",
    "\n",
    "numMatches = len(matchData)\n",
    "\n",
    "percAwayWins = (numAwayWins / numMatches) * 100"
   ]
  },
  {
   "cell_type": "code",
   "execution_count": 11,
   "id": "3e49475f",
   "metadata": {},
   "outputs": [
    {
     "name": "stdout",
     "output_type": "stream",
     "text": [
      "Percentage of Away Wins: 28.36%\n"
     ]
    }
   ],
   "source": [
    "print(f\"Percentage of Away Wins: {percAwayWins:.2f}%\")"
   ]
  },
  {
   "cell_type": "code",
   "execution_count": 12,
   "id": "3035a1de",
   "metadata": {},
   "outputs": [],
   "source": [
    "# Calculate the percentage of home wins\n",
    "\n",
    "numHomeWins = len(homeWins)\n",
    "\n",
    "percHomeWins = (numHomeWins / numMatches) * 100"
   ]
  },
  {
   "cell_type": "code",
   "execution_count": 13,
   "id": "5d85acf7",
   "metadata": {},
   "outputs": [
    {
     "name": "stdout",
     "output_type": "stream",
     "text": [
      "Percentage of Home Wins: 45.89%\n"
     ]
    }
   ],
   "source": [
    "print(f\"Percentage of Home Wins: {percHomeWins:.2f}%\")"
   ]
  },
  {
   "cell_type": "code",
   "execution_count": 14,
   "id": "0a452e00",
   "metadata": {},
   "outputs": [],
   "source": [
    "# Calculate the percentage of ties\n",
    "\n",
    "ties = matchData[matchData['FTR'] == 'D']\n",
    "\n",
    "numTies = len(ties)\n",
    "\n",
    "percTies = (numTies / numMatches) * 100"
   ]
  },
  {
   "cell_type": "code",
   "execution_count": 15,
   "id": "55c2bd86",
   "metadata": {},
   "outputs": [
    {
     "name": "stdout",
     "output_type": "stream",
     "text": [
      "Percentage of Ties: 25.75%\n"
     ]
    }
   ],
   "source": [
    "print(f\"Percentage of Ties: {percTies:.2f}%\")"
   ]
  },
  {
   "cell_type": "code",
   "execution_count": 16,
   "id": "b4cd58e0",
   "metadata": {},
   "outputs": [
    {
     "data": {
      "text/html": [
       "<div>\n",
       "<style scoped>\n",
       "    .dataframe tbody tr th:only-of-type {\n",
       "        vertical-align: middle;\n",
       "    }\n",
       "\n",
       "    .dataframe tbody tr th {\n",
       "        vertical-align: top;\n",
       "    }\n",
       "\n",
       "    .dataframe thead th {\n",
       "        text-align: right;\n",
       "    }\n",
       "</style>\n",
       "<table border=\"1\" class=\"dataframe\">\n",
       "  <thead>\n",
       "    <tr style=\"text-align: right;\">\n",
       "      <th></th>\n",
       "      <th>Wk</th>\n",
       "      <th>Date</th>\n",
       "      <th>Home</th>\n",
       "      <th>HomeGoals</th>\n",
       "      <th>AwayGoals</th>\n",
       "      <th>Away</th>\n",
       "      <th>FTR</th>\n",
       "    </tr>\n",
       "    <tr>\n",
       "      <th>Season_End_Year</th>\n",
       "      <th></th>\n",
       "      <th></th>\n",
       "      <th></th>\n",
       "      <th></th>\n",
       "      <th></th>\n",
       "      <th></th>\n",
       "      <th></th>\n",
       "    </tr>\n",
       "  </thead>\n",
       "  <tbody>\n",
       "    <tr>\n",
       "      <th>1993</th>\n",
       "      <td>1</td>\n",
       "      <td>1992-08-15</td>\n",
       "      <td>Coventry City</td>\n",
       "      <td>2</td>\n",
       "      <td>1</td>\n",
       "      <td>Middlesbrough</td>\n",
       "      <td>H</td>\n",
       "    </tr>\n",
       "    <tr>\n",
       "      <th>1993</th>\n",
       "      <td>1</td>\n",
       "      <td>1992-08-15</td>\n",
       "      <td>Leeds United</td>\n",
       "      <td>2</td>\n",
       "      <td>1</td>\n",
       "      <td>Wimbledon</td>\n",
       "      <td>H</td>\n",
       "    </tr>\n",
       "    <tr>\n",
       "      <th>1993</th>\n",
       "      <td>1</td>\n",
       "      <td>1992-08-15</td>\n",
       "      <td>Sheffield Utd</td>\n",
       "      <td>2</td>\n",
       "      <td>1</td>\n",
       "      <td>Manchester Utd</td>\n",
       "      <td>H</td>\n",
       "    </tr>\n",
       "    <tr>\n",
       "      <th>1993</th>\n",
       "      <td>1</td>\n",
       "      <td>1992-08-15</td>\n",
       "      <td>Crystal Palace</td>\n",
       "      <td>3</td>\n",
       "      <td>3</td>\n",
       "      <td>Blackburn</td>\n",
       "      <td>D</td>\n",
       "    </tr>\n",
       "    <tr>\n",
       "      <th>1993</th>\n",
       "      <td>1</td>\n",
       "      <td>1992-08-15</td>\n",
       "      <td>Arsenal</td>\n",
       "      <td>2</td>\n",
       "      <td>4</td>\n",
       "      <td>Norwich City</td>\n",
       "      <td>A</td>\n",
       "    </tr>\n",
       "  </tbody>\n",
       "</table>\n",
       "</div>"
      ],
      "text/plain": [
       "                 Wk       Date            Home  HomeGoals  AwayGoals  \\\n",
       "Season_End_Year                                                        \n",
       "1993              1 1992-08-15   Coventry City          2          1   \n",
       "1993              1 1992-08-15    Leeds United          2          1   \n",
       "1993              1 1992-08-15   Sheffield Utd          2          1   \n",
       "1993              1 1992-08-15  Crystal Palace          3          3   \n",
       "1993              1 1992-08-15         Arsenal          2          4   \n",
       "\n",
       "                           Away FTR  \n",
       "Season_End_Year                      \n",
       "1993              Middlesbrough   H  \n",
       "1993                  Wimbledon   H  \n",
       "1993             Manchester Utd   H  \n",
       "1993                  Blackburn   D  \n",
       "1993               Norwich City   A  "
      ]
     },
     "execution_count": 16,
     "metadata": {},
     "output_type": "execute_result"
    }
   ],
   "source": [
    "matchData.head()"
   ]
  },
  {
   "cell_type": "markdown",
   "id": "8d1f62db",
   "metadata": {},
   "source": [
    "# Preparing Data for Machine Learning\n",
    "\n",
    "- The objective of the following code is to aggregate home and away goals by year from Premier League data, creating a subset for training a machine learning algorithm.\n",
    "\n",
    "- A crucial preparatory step involves verifying that the number of games per year is consistent. This ensures the dataset doesn't suffer from skewed representations that could lead to inaccurate model predictions."
   ]
  },
  {
   "cell_type": "code",
   "execution_count": 17,
   "id": "d87034d8",
   "metadata": {},
   "outputs": [
    {
     "data": {
      "text/plain": [
       "Season_End_Year\n",
       "1993    462\n",
       "1994    462\n",
       "1995    462\n",
       "1996    380\n",
       "1997    380\n",
       "1998    380\n",
       "1999    380\n",
       "2000    380\n",
       "2001    380\n",
       "2002    380\n",
       "2003    380\n",
       "2004    380\n",
       "2005    380\n",
       "2006    380\n",
       "2007    380\n",
       "2008    380\n",
       "2009    380\n",
       "2010    380\n",
       "2011    380\n",
       "2012    380\n",
       "2013    380\n",
       "2014    380\n",
       "2015    380\n",
       "2016    380\n",
       "2017    380\n",
       "2018    380\n",
       "2019    380\n",
       "2020    380\n",
       "2021    380\n",
       "2022    380\n",
       "2023    380\n",
       "dtype: int64"
      ]
     },
     "execution_count": 17,
     "metadata": {},
     "output_type": "execute_result"
    }
   ],
   "source": [
    "#Lets make sure there are approximtely the same number of games per year\n",
    "games_per_season = matchData.groupby('Season_End_Year').size()\n",
    "games_per_season"
   ]
  },
  {
   "cell_type": "code",
   "execution_count": 18,
   "id": "28707b77",
   "metadata": {},
   "outputs": [],
   "source": [
    "# Reset index to filter out seasons with irregular number of games\n",
    "matchData = matchData.reset_index()"
   ]
  },
  {
   "cell_type": "code",
   "execution_count": 19,
   "id": "b272fc30",
   "metadata": {},
   "outputs": [],
   "source": [
    "#From running that last code snippet you can see that '93 - '95 have more games\n",
    "#After some research I found this is becuase the League dropped from 22 clubs to 20\n",
    "#This cell will filter out those years so we can get consistent data\n",
    "\n",
    "matchData_filtered = matchData[~matchData['Season_End_Year'].isin([1993,1994,1995])]"
   ]
  },
  {
   "cell_type": "code",
   "execution_count": 20,
   "id": "173d5c48",
   "metadata": {},
   "outputs": [],
   "source": [
    "# Group by year then get the sum of all home and away goals\n",
    "\n",
    "goalsByYear = matchData_filtered.groupby('Season_End_Year').agg({'HomeGoals': 'sum', 'AwayGoals': 'sum'}).reset_index()"
   ]
  },
  {
   "cell_type": "code",
   "execution_count": 34,
   "id": "25d01180",
   "metadata": {},
   "outputs": [
    {
     "data": {
      "text/html": [
       "<div>\n",
       "<style scoped>\n",
       "    .dataframe tbody tr th:only-of-type {\n",
       "        vertical-align: middle;\n",
       "    }\n",
       "\n",
       "    .dataframe tbody tr th {\n",
       "        vertical-align: top;\n",
       "    }\n",
       "\n",
       "    .dataframe thead th {\n",
       "        text-align: right;\n",
       "    }\n",
       "</style>\n",
       "<table border=\"1\" class=\"dataframe\">\n",
       "  <thead>\n",
       "    <tr style=\"text-align: right;\">\n",
       "      <th></th>\n",
       "      <th>Season_End_Year</th>\n",
       "      <th>HomeGoals</th>\n",
       "      <th>AwayGoals</th>\n",
       "    </tr>\n",
       "  </thead>\n",
       "  <tbody>\n",
       "    <tr>\n",
       "      <th>0</th>\n",
       "      <td>1996</td>\n",
       "      <td>580</td>\n",
       "      <td>408</td>\n",
       "    </tr>\n",
       "    <tr>\n",
       "      <th>1</th>\n",
       "      <td>1997</td>\n",
       "      <td>559</td>\n",
       "      <td>411</td>\n",
       "    </tr>\n",
       "    <tr>\n",
       "      <th>2</th>\n",
       "      <td>1998</td>\n",
       "      <td>592</td>\n",
       "      <td>427</td>\n",
       "    </tr>\n",
       "    <tr>\n",
       "      <th>3</th>\n",
       "      <td>1999</td>\n",
       "      <td>553</td>\n",
       "      <td>406</td>\n",
       "    </tr>\n",
       "    <tr>\n",
       "      <th>4</th>\n",
       "      <td>2000</td>\n",
       "      <td>635</td>\n",
       "      <td>425</td>\n",
       "    </tr>\n",
       "    <tr>\n",
       "      <th>5</th>\n",
       "      <td>2001</td>\n",
       "      <td>587</td>\n",
       "      <td>405</td>\n",
       "    </tr>\n",
       "    <tr>\n",
       "      <th>6</th>\n",
       "      <td>2002</td>\n",
       "      <td>557</td>\n",
       "      <td>444</td>\n",
       "    </tr>\n",
       "    <tr>\n",
       "      <th>7</th>\n",
       "      <td>2003</td>\n",
       "      <td>570</td>\n",
       "      <td>430</td>\n",
       "    </tr>\n",
       "    <tr>\n",
       "      <th>8</th>\n",
       "      <td>2004</td>\n",
       "      <td>572</td>\n",
       "      <td>440</td>\n",
       "    </tr>\n",
       "    <tr>\n",
       "      <th>9</th>\n",
       "      <td>2005</td>\n",
       "      <td>570</td>\n",
       "      <td>405</td>\n",
       "    </tr>\n",
       "    <tr>\n",
       "      <th>10</th>\n",
       "      <td>2006</td>\n",
       "      <td>555</td>\n",
       "      <td>389</td>\n",
       "    </tr>\n",
       "    <tr>\n",
       "      <th>11</th>\n",
       "      <td>2007</td>\n",
       "      <td>552</td>\n",
       "      <td>379</td>\n",
       "    </tr>\n",
       "    <tr>\n",
       "      <th>12</th>\n",
       "      <td>2008</td>\n",
       "      <td>581</td>\n",
       "      <td>421</td>\n",
       "    </tr>\n",
       "    <tr>\n",
       "      <th>13</th>\n",
       "      <td>2009</td>\n",
       "      <td>532</td>\n",
       "      <td>410</td>\n",
       "    </tr>\n",
       "    <tr>\n",
       "      <th>14</th>\n",
       "      <td>2010</td>\n",
       "      <td>645</td>\n",
       "      <td>408</td>\n",
       "    </tr>\n",
       "    <tr>\n",
       "      <th>15</th>\n",
       "      <td>2011</td>\n",
       "      <td>617</td>\n",
       "      <td>446</td>\n",
       "    </tr>\n",
       "    <tr>\n",
       "      <th>16</th>\n",
       "      <td>2012</td>\n",
       "      <td>604</td>\n",
       "      <td>462</td>\n",
       "    </tr>\n",
       "    <tr>\n",
       "      <th>17</th>\n",
       "      <td>2013</td>\n",
       "      <td>592</td>\n",
       "      <td>471</td>\n",
       "    </tr>\n",
       "    <tr>\n",
       "      <th>18</th>\n",
       "      <td>2014</td>\n",
       "      <td>598</td>\n",
       "      <td>454</td>\n",
       "    </tr>\n",
       "    <tr>\n",
       "      <th>19</th>\n",
       "      <td>2015</td>\n",
       "      <td>560</td>\n",
       "      <td>415</td>\n",
       "    </tr>\n",
       "    <tr>\n",
       "      <th>20</th>\n",
       "      <td>2016</td>\n",
       "      <td>567</td>\n",
       "      <td>459</td>\n",
       "    </tr>\n",
       "    <tr>\n",
       "      <th>21</th>\n",
       "      <td>2017</td>\n",
       "      <td>607</td>\n",
       "      <td>457</td>\n",
       "    </tr>\n",
       "    <tr>\n",
       "      <th>22</th>\n",
       "      <td>2018</td>\n",
       "      <td>582</td>\n",
       "      <td>436</td>\n",
       "    </tr>\n",
       "    <tr>\n",
       "      <th>23</th>\n",
       "      <td>2019</td>\n",
       "      <td>596</td>\n",
       "      <td>476</td>\n",
       "    </tr>\n",
       "    <tr>\n",
       "      <th>24</th>\n",
       "      <td>2020</td>\n",
       "      <td>576</td>\n",
       "      <td>458</td>\n",
       "    </tr>\n",
       "    <tr>\n",
       "      <th>25</th>\n",
       "      <td>2021</td>\n",
       "      <td>514</td>\n",
       "      <td>510</td>\n",
       "    </tr>\n",
       "    <tr>\n",
       "      <th>26</th>\n",
       "      <td>2022</td>\n",
       "      <td>575</td>\n",
       "      <td>496</td>\n",
       "    </tr>\n",
       "    <tr>\n",
       "      <th>27</th>\n",
       "      <td>2023</td>\n",
       "      <td>621</td>\n",
       "      <td>463</td>\n",
       "    </tr>\n",
       "  </tbody>\n",
       "</table>\n",
       "</div>"
      ],
      "text/plain": [
       "    Season_End_Year  HomeGoals  AwayGoals\n",
       "0              1996        580        408\n",
       "1              1997        559        411\n",
       "2              1998        592        427\n",
       "3              1999        553        406\n",
       "4              2000        635        425\n",
       "5              2001        587        405\n",
       "6              2002        557        444\n",
       "7              2003        570        430\n",
       "8              2004        572        440\n",
       "9              2005        570        405\n",
       "10             2006        555        389\n",
       "11             2007        552        379\n",
       "12             2008        581        421\n",
       "13             2009        532        410\n",
       "14             2010        645        408\n",
       "15             2011        617        446\n",
       "16             2012        604        462\n",
       "17             2013        592        471\n",
       "18             2014        598        454\n",
       "19             2015        560        415\n",
       "20             2016        567        459\n",
       "21             2017        607        457\n",
       "22             2018        582        436\n",
       "23             2019        596        476\n",
       "24             2020        576        458\n",
       "25             2021        514        510\n",
       "26             2022        575        496\n",
       "27             2023        621        463"
      ]
     },
     "execution_count": 34,
     "metadata": {},
     "output_type": "execute_result"
    }
   ],
   "source": [
    "goalsByYear"
   ]
  },
  {
   "cell_type": "code",
   "execution_count": 22,
   "id": "0a41f9ca",
   "metadata": {},
   "outputs": [
    {
     "data": {
      "image/png": "[encoded data removed]",
      "text/plain": [
       "<Figure size 1000x600 with 1 Axes>"
      ]
     },
     "metadata": {},
     "output_type": "display_data"
    }
   ],
   "source": [
    "# Plotting home and away goals per season\n",
    "\n",
    "plt.figure(figsize=(10,6))\n",
    "\n",
    "plt.plot(goalsByYear['Season_End_Year'], goalsByYear['HomeGoals'], label='Home Goals', marker='o', linestyle='-', color='blue')\n",
    "\n",
    "plt.plot(goalsByYear['Season_End_Year'], goalsByYear['AwayGoals'], label='Away Goals', marker='x', linestyle='--', color='red')\n",
    "\n",
    "\n",
    "plt.title('Home vs. Away Goals Per Season')\n",
    "plt.xlabel('Year')\n",
    "plt.ylabel('Total Goals')\n",
    "\n",
    "plt.legend()\n",
    "\n",
    "plt.grid(True)\n",
    "\n",
    "plt.show()"
   ]
  },
  {
   "cell_type": "markdown",
   "id": "6d906217",
   "metadata": {},
   "source": [
    " # Predictive Analysis with Random Forests\n",
    "\n",
    "- I'll be using Random Forests for predictive analysis to forecast 2024 home and away goals and evaluate model performance.\n",
    "\n",
    "- I chose Random Forests due to their ability to capture complex, non-linear relationships, as observed in the graph.\n",
    "\n",
    "- First, I'll split the dataset into training (up to 2016) and testing (from 2017 onwards) sets.\n",
    "\n",
    "- Then, I'll train the Random Forest Regressor on the training data, assessing its accuracy with metrics like Mean Absolute Error (MAE) and Mean Squared Error (MSE).\n",
    "\n",
    "- These metrics quantify the disparity between actual and predicted values, providing insights into the model's predictive accuracy.\n",
    "\n",
    "- Finally, I'll use the trained model to predict 2024 home goals based on input features, providing valuable insights for future seasons."
   ]
  },
  {
   "cell_type": "code",
   "execution_count": 23,
   "id": "62fffcdc",
   "metadata": {},
   "outputs": [],
   "source": [
    "import numpy as np\n",
    "\n",
    "from sklearn.model_selection import train_test_split\n",
    "from sklearn.ensemble import RandomForestRegressor\n",
    "from sklearn.metrics import mean_squared_error, mean_absolute_error"
   ]
  },
  {
   "cell_type": "code",
   "execution_count": 24,
   "id": "bdcec84c",
   "metadata": {},
   "outputs": [],
   "source": [
    "# Split the data into a training and test data set\n",
    "# For most accurate results we will test closer to the 2024 season date\n",
    "\n",
    "split_year = 2016 # This split year will be important for testing the model to find the best result\n",
    "\n",
    "train = goalsByYear[goalsByYear['Season_End_Year'] < split_year]\n",
    "\n",
    "test = goalsByYear[goalsByYear['Season_End_Year'] >= split_year]"
   ]
  },
  {
   "cell_type": "code",
   "execution_count": 25,
   "id": "e38eb88d",
   "metadata": {},
   "outputs": [],
   "source": [
    "# Set up training and testing using 'Season_End_Year' and 'AwayGoals'\n",
    "# as input features, and 'HomeGoals' as target variable\n",
    "\n",
    "X_train = train[['Season_End_Year', 'AwayGoals']]\n",
    "y_train = train['HomeGoals']\n",
    "X_test = test[['Season_End_Year', 'AwayGoals']]\n",
    "y_test = test['HomeGoals']"
   ]
  },
  {
   "cell_type": "code",
   "execution_count": 26,
   "id": "fe48d2c1",
   "metadata": {},
   "outputs": [
    {
     "name": "stdout",
     "output_type": "stream",
     "text": [
      "Mean Absolute Error: 22\n",
      "Mean Squared Error: 927\n"
     ]
    }
   ],
   "source": [
    "# Trains the RF model with 150 estimators and a radom state of 42\n",
    "# I tried many estimators and random states and 150 and 42 proved the best\n",
    "\n",
    "rf = RandomForestRegressor(n_estimators=150, random_state=42)\n",
    "rf.fit(X_train, y_train)\n",
    "\n",
    "y_pred = rf.predict(X_test)\n",
    "\n",
    "mae = mean_absolute_error(y_test, y_pred)\n",
    "mse = mean_squared_error(y_test, y_pred)\n",
    "\n",
    "print(f'Mean Absolute Error: {mae:.0f}')\n",
    "print(f'Mean Squared Error: {mse:.0f}')"
   ]
  },
  {
   "cell_type": "markdown",
   "id": "df0e0507",
   "metadata": {},
   "source": [
    "# Model Evaluation and Optimization\n",
    "\n",
    "- The Random Forest Regressor model indicates a deviation of approximately 22 goals in the predictive analysis.\n",
    "\n",
    "- Experimentation revealed that splitting the dataset at the year 2016 yielded optimal results, providing a seven-year dataset for testing.\n",
    "\n",
    "- Deviating from this split point resulted in varied MAE values: lower years led to MAE spikes of around 40, while higher years converged to an MAE of approximately 25.\n"
   ]
  },
  {
   "cell_type": "code",
   "execution_count": 32,
   "id": "315fc9fd",
   "metadata": {},
   "outputs": [
    {
     "name": "stdout",
     "output_type": "stream",
     "text": [
      "Predicted Home Goals for 2024 Season: 589\n"
     ]
    }
   ],
   "source": [
    "# Create a DF with input features 'Season_End_Year' and 'AwayGoals'\n",
    "# to use the RF model to predict the number of home goals in 2024\n",
    "\n",
    "features_2024 = pd.DataFrame({'Season_End_Year': [2024], 'AwayGoals': [450]})\n",
    "\n",
    "y_2024_pred = rf.predict(features_2024[['Season_End_Year', 'AwayGoals']])\n",
    "\n",
    "print(f\"Predicted Home Goals for 2024 Season:\", int(y_2024_pred[0]))"
   ]
  },
  {
   "cell_type": "markdown",
   "id": "505e64a1",
   "metadata": {},
   "source": [
    "# Conclusion\n",
    "\n",
    "- Our analysis of Premier League match data reveals insights into home and away goal trends over the years.\n",
    "\n",
    "- We observe a consistent pattern of home teams having a higher percentage of wins compared to away teams, indicating a home advantage.\n",
    "\n",
    "- Utilizing Random Forest Regression, we can predict home goals with reasonable accuracy, with an average deviation of approximately 22 goals.\n",
    "\n",
    "- By splitting the dataset at the year 2016, we optimize model performance and achieve a more reliable prediction.\n",
    "\n",
    "- Overall, our analysis provides valuable insights for understanding and predicting goal trends in future Premier League seasons.\n"
   ]
  }
 ],
 "metadata": {
  "kernelspec": {
   "display_name": "Python 3 (ipykernel)",
   "language": "python",
   "name": "python3"
  },
  "language_info": {
   "codemirror_mode": {
    "name": "ipython",
    "version": 3
   },
   "file_extension": ".py",
   "mimetype": "text/x-python",
   "name": "python",
   "nbconvert_exporter": "python",
   "pygments_lexer": "ipython3",
   "version": "3.11.4"
  }
 },
 "nbformat": 4,
 "nbformat_minor": 5
}
